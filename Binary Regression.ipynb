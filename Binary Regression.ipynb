{
 "cells": [
  {
   "cell_type": "code",
   "execution_count": 1,
   "metadata": {
    "collapsed": true
   },
   "outputs": [],
   "source": [
    "import os\n",
    "import sys\n",
    "import numpy as np\n",
    "import scipy.io\n",
    "import scipy.misc\n",
    "import tensorflow as tf  # Import TensorFlow after Scipy or Scipy will break\n",
    "from PIL import Image\n",
    "from util import *\n",
    "\n",
    "IMAGE_HEIGHT = 227\n",
    "IMAGE_WIDTH = 227\n",
    "COLOR_CHANNELS = 3\n"
   ]
  },
  {
   "cell_type": "code",
   "execution_count": 2,
   "metadata": {
    "collapsed": false
   },
   "outputs": [],
   "source": [
    "VGG_MODEL = 'imagenet-vgg-verydeep-19.mat'\n",
    "\n",
    "def build_graph(image):\n",
    "    graph = load_vgg_model(VGG_MODEL, input_image = image)\n",
    "    model_var = tf.all_variables()\n",
    "    # weights for each layer of output\n",
    "    weights = {}\n",
    "    for key in graph.keys():\n",
    "        weight_shape = graph[key].get_shape()[1:]\n",
    "        weights[key+'_w'] = tf.Variable(tf.random_normal(weight_shape), name = key+'_w')\n",
    "    weight_name = [v.name for key, v in weights.iteritems()]\n",
    "\n",
    "    def _inner_prod(t1, t2):\n",
    "        # use broadcast of tf.mul, keep the first batch dimension in sum\n",
    "        return tf.reduce_sum(tf.mul(t1,t2), [1, 2, 3])\n",
    "\n",
    "    # sum of inner products of output coeffs and weights\n",
    "    regs = sum([_inner_prod(weights[key], graph[key[:-2]]) for key in weights.keys() ])\n",
    "\n",
    "    return (regs, model_var, weights)"
   ]
  },
  {
   "cell_type": "code",
   "execution_count": 3,
   "metadata": {
    "collapsed": false
   },
   "outputs": [
    {
     "name": "stdout",
     "output_type": "stream",
     "text": [
      "total number of weight variables: 1.7198e+07\n"
     ]
    }
   ],
   "source": [
    "# Content image to use.\n",
    "CONTENT_IMAGE = 'images/inputs/hummingbird-photo_p1-rot.jpg' #'images/inputs/hummingbird-small.jpg'\n",
    "content_image = load_image(CONTENT_IMAGE, image_width=IMAGE_WIDTH, image_height=IMAGE_HEIGHT)\n",
    "# Style image to use.\n",
    "STYLE_IMAGE = 'images/inputs/Nr2_original_p1-ds.jpg' #'images/inputs/Nr2_orig.jpg'\n",
    "style_image = load_image(STYLE_IMAGE, image_width=IMAGE_WIDTH, image_height=IMAGE_HEIGHT)\n",
    "label = [0 , 1]\n",
    "\n",
    "regs, model_var, weights = build_graph(tf.concat(0, [content_image, style_image]))\n",
    "\n",
    "sess = tf.InteractiveSession()\n",
    "sess.run(tf.initialize_variables(model_var))\n",
    "sess.run(tf.initialize_all_variables())\n",
    "\n",
    "print( \"total number of weight variables: %.4e\" % sess.run(sum([tf.size(v) for key, v in weights.iteritems()])) )\n",
    "\n",
    "#print(\"%.4e\" % (sess.run(tf.reduce_sum(graph['input']))) )\n",
    "print([\"%.4e\" % reg for reg in sess.run(regs)])\n"
   ]
  },
  {
   "cell_type": "code",
   "execution_count": null,
   "metadata": {
    "collapsed": true
   },
   "outputs": [],
   "source": []
  }
 ],
 "metadata": {
  "kernelspec": {
   "display_name": "Python 2",
   "language": "python",
   "name": "python2"
  },
  "language_info": {
   "codemirror_mode": {
    "name": "ipython",
    "version": 2
   },
   "file_extension": ".py",
   "mimetype": "text/x-python",
   "name": "python",
   "nbconvert_exporter": "python",
   "pygments_lexer": "ipython2",
   "version": "2.7.10"
  }
 },
 "nbformat": 4,
 "nbformat_minor": 1
}
